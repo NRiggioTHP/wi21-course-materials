{
 "cells": [
  {
   "cell_type": "markdown",
   "metadata": {},
   "source": [
    "## Lab 1: Version Control with Git & Github"
   ]
  },
  {
   "cell_type": "markdown",
   "metadata": {},
   "source": [
    "This notebook uses a Bash kernel, different from the Python kernel we will use for the remainder of the class.\n",
    "\n",
    "To download **bash_kernel**, use one of the following commands:\n",
    "\n",
    "`conda install -c conda-forge bash_kernel` or `pip install bash_kernel`.\n",
    "\n",
    "Note that notebooks in Bash are more likely to change settings or important state. Read cells before running making sure not to run cells twice when unnecessary."
   ]
  },
  {
   "cell_type": "markdown",
   "metadata": {},
   "source": [
    "### Setting up Git"
   ]
  },
  {
   "cell_type": "code",
   "execution_count": null,
   "metadata": {},
   "outputs": [],
   "source": [
    "# Change settings\n",
    "git config --global user.name \"YOUR NAME HERE\"\n",
    "git config --global user.email \"your@email.com\"\n",
    "git config --global color.ui auto"
   ]
  },
  {
   "cell_type": "markdown",
   "metadata": {},
   "source": [
    "Line endings (i.e. carriage returns, pressing enter) are an important setting to configure correctly. Without proper handling, the software might confuse switching from a Mac to Windows machine as a change where all of the line endings are changed. This is because the operating systems have different characters for line endings."
   ]
  },
  {
   "cell_type": "markdown",
   "metadata": {},
   "source": [
    "For those whose file editors are in Linux/Mac formats:"
   ]
  },
  {
   "cell_type": "code",
   "execution_count": null,
   "metadata": {},
   "outputs": [],
   "source": [
    "git config --global core.autocrlf input"
   ]
  },
  {
   "cell_type": "markdown",
   "metadata": {},
   "source": [
    "For those whose file editors are in Windows formats:"
   ]
  },
  {
   "cell_type": "code",
   "execution_count": null,
   "metadata": {},
   "outputs": [],
   "source": [
    "git config --global core.autocrlf true"
   ]
  },
  {
   "cell_type": "markdown",
   "metadata": {},
   "source": [
    "File editor is used in several places in Git, most commonly for changing commit messages and interactive rebasing mode. Below are suggested settings depending on the file editor you use. We will mostly use `nano` in this class.\n",
    "\n",
    "|Editor | Configuration command |\n",
    "| :------------- | :----------: |\n",
    "| **nano** | `git config --global core.editor \"nano -w\"` |\n",
    "| Atom | `git config --global core.editor \"atom --wait\"` |\n",
    "| BBEdit (Mac, with command line tools) | `git config --global core.editor \"bbedit -w\"` |\n",
    "| Sublime Text (Mac) | `git config --global core.editor \"/Applications/Sublime\\ Text.app/Contents/SharedSuppo/bin/subl -n -w\"` |\n",
    "| Sublime Text (Win, 32-bit install) | `git config --global core.editor \"'c:/program files (x86)/sublime text 3/sublime_text.exe' -w\"` |\n",
    "| Sublime Text (Win, 64-bit install) | `git config --global core.editor \"'c:/program files/sublime text 3/sublime_text.exe' -w\"` |\n",
    "| Notepad++ (Win, 32-bit install) | `git config --global core.editor \"'c:/program files (x86)/Notepad++/notepad++.exe' -multiInst -notabbar -nosession -noPlugin\"` |\n",
    "| Notepad++ (Win, 64-bit install) | `git config --global core.editor \"'c:/program files/Notepad++/notepad++.exe' -multiInst -notabbar -nosession -noPlugin\"` |\n",
    "| Kate (Linux) | `git config --global core.editor \"kate\"` |\n",
    "| Gedit (Linux) | `git config --global core.editor \"gedit --wait --new-window\"` |\n",
    "| Scratch (Linux) | `git config --global core.editor \"scratch-text-editor\"` |\n",
    "| Emacs | `git config --global core.editor \"emacs\"` |\n",
    "| Vim | `git config --global core.editor \"vim\"` |\n",
    "| VS Code | `git config --global core.editor \"code --wait\"` |"
   ]
  },
  {
   "cell_type": "markdown",
   "metadata": {},
   "source": [
    "You can check your config settings using `git config --list`."
   ]
  },
  {
   "cell_type": "code",
   "execution_count": null,
   "metadata": {},
   "outputs": [],
   "source": [
    "git config --list"
   ]
  },
  {
   "cell_type": "markdown",
   "metadata": {},
   "source": [
    "### Creating a repository locally and making a commit\n",
    "\n",
    "While this is the less common way public repositories are started, creating a repository locally and adding remote repositories after helps to better understand what is happening under the hood first.\n",
    "\n",
    "Let's start by making a new empty directory after changing directories if needed."
   ]
  },
  {
   "cell_type": "code",
   "execution_count": null,
   "metadata": {},
   "outputs": [],
   "source": [
    "pwd"
   ]
  },
  {
   "cell_type": "code",
   "execution_count": null,
   "metadata": {},
   "outputs": [],
   "source": [
    "#cd path/to/desired/directory"
   ]
  },
  {
   "cell_type": "code",
   "execution_count": null,
   "metadata": {},
   "outputs": [],
   "source": [
    "mkdir bridge\n",
    "cd bridge"
   ]
  },
  {
   "cell_type": "markdown",
   "metadata": {},
   "source": [
    "We'll then make this folder a git repository that allows the program to track versions of our files.\n",
    "\n",
    "It is important that the folder we intiate is not a subdirectory of another repository. So, for example, you should not make your home directory a repository.\n",
    "\n",
    "##### What is a way we can check to see if the parent directories are git repositories?"
   ]
  },
  {
   "cell_type": "code",
   "execution_count": null,
   "metadata": {},
   "outputs": [],
   "source": [
    "# Initialize git repository\n",
    "git init"
   ]
  },
  {
   "cell_type": "markdown",
   "metadata": {},
   "source": [
    "You can see the `.git` folder that is created when you include hidden folders in your `ls` view. All files and folders that start with `.` are hidden by default without the flag."
   ]
  },
  {
   "cell_type": "code",
   "execution_count": null,
   "metadata": {},
   "outputs": [],
   "source": [
    "ls -a"
   ]
  },
  {
   "cell_type": "markdown",
   "metadata": {},
   "source": [
    "The folder contains a number of interesting folders and files, but it is extremely rare that you should need to view or edit them.\n",
    "\n",
    "Do not change anything here unless you're advanced!"
   ]
  },
  {
   "cell_type": "code",
   "execution_count": null,
   "metadata": {},
   "outputs": [],
   "source": [
    "ls .git"
   ]
  },
  {
   "cell_type": "markdown",
   "metadata": {},
   "source": [
    "We can check the status of our git repository using `git status`. I use this often to see which files are staged, the current branch, and more."
   ]
  },
  {
   "cell_type": "code",
   "execution_count": null,
   "metadata": {},
   "outputs": [],
   "source": [
    "# View status\n",
    "git status"
   ]
  },
  {
   "cell_type": "markdown",
   "metadata": {},
   "source": [
    "Let's add a file as our first commit using the `touch` program, which just makes empty files.\n",
    "\n",
    "The README file (often as .txt or .md) is a good first step."
   ]
  },
  {
   "cell_type": "code",
   "execution_count": null,
   "metadata": {},
   "outputs": [],
   "source": [
    "# Create new file named 'README.md'\n",
    "touch README.md"
   ]
  },
  {
   "cell_type": "code",
   "execution_count": null,
   "metadata": {},
   "outputs": [],
   "source": [
    "ls"
   ]
  },
  {
   "cell_type": "code",
   "execution_count": null,
   "metadata": {},
   "outputs": [],
   "source": [
    "git status"
   ]
  },
  {
   "cell_type": "markdown",
   "metadata": {},
   "source": [
    "You should see `README.md` in Untracked files. When a particular file has not been staged yet, it is not being tracked in the repository.\n",
    "\n",
    "Once we do the next step (staging), we will see it in unstaged (or staged)."
   ]
  },
  {
   "cell_type": "code",
   "execution_count": null,
   "metadata": {},
   "outputs": [],
   "source": [
    "# Stage changes\n",
    "git add README.md"
   ]
  },
  {
   "cell_type": "code",
   "execution_count": null,
   "metadata": {},
   "outputs": [],
   "source": [
    "git status"
   ]
  },
  {
   "cell_type": "markdown",
   "metadata": {},
   "source": [
    "##### What might happen if we made additional changes to the README.md file? (You're welcome to do this if you wish.)\n",
    "\n",
    "We'll use the `-m` flag for making commits. Not only do I use it 99% of the time for speed, using `git commit` without the flag opens a text editor. This is incompatible with the Jupyter notebook environment."
   ]
  },
  {
   "cell_type": "code",
   "execution_count": null,
   "metadata": {},
   "outputs": [],
   "source": [
    "# Create commit from staged changes\n",
    "git commit -m \"Add empty README file\""
   ]
  },
  {
   "cell_type": "markdown",
   "metadata": {},
   "source": [
    "Notice that after committing, our status has no changes to view.\n",
    "\n",
    "We can see the **commits** in reverse chronological order when viewing the log."
   ]
  },
  {
   "cell_type": "code",
   "execution_count": null,
   "metadata": {},
   "outputs": [],
   "source": [
    "# View log\n",
    "git log"
   ]
  },
  {
   "cell_type": "markdown",
   "metadata": {},
   "source": [
    "##### What is the long sequence of alphanumeric characters for?\n",
    "\n",
    "##### Why might it be helpful to write useful commit messages?\n",
    "\n",
    "##### Why might it be helpful to keep track of author information and date?"
   ]
  },
  {
   "cell_type": "markdown",
   "metadata": {},
   "source": [
    "### Adding a remote from GitHub\n",
    "\n",
    "Go to Github and creat a new empty repository. Do not include a README, License, or .gitignore file on Github as we are importing an existing repository from our local machine.\n",
    "\n",
    "##### Why might including the above files cause an issue?\n",
    "\n",
    "Copy the URL from Github and enter the following on your local machine:"
   ]
  },
  {
   "cell_type": "code",
   "execution_count": null,
   "metadata": {},
   "outputs": [],
   "source": [
    "# Add GitHub repo as remote named 'origin'\n",
    "git remote add origin [URL]"
   ]
  },
  {
   "cell_type": "markdown",
   "metadata": {},
   "source": [
    "You'll also see two more new commands.\n",
    "\n",
    "These involve branches, which have defaulted for years in Git as `master` (master/slave imagery has been used in programming for many years). In 2020, Github made the decision to replace the default branch name with `main`. We will also do that here."
   ]
  },
  {
   "cell_type": "code",
   "execution_count": null,
   "metadata": {},
   "outputs": [],
   "source": [
    "# Create new branch, push, and track\n",
    "git branch -M main\n",
    "git push -u origin main"
   ]
  },
  {
   "cell_type": "markdown",
   "metadata": {},
   "source": [
    "So what does push and pull do? They allow us to **push** commits from our local repository to the remote or **pull** (also fetch) commit info and data to our local.\n",
    "\n",
    "The `-u` just allows us to specify a particular remote and branch so that we don't always have to specify `origin main`. However, I suggest that you write those out while learning."
   ]
  },
  {
   "cell_type": "markdown",
   "metadata": {},
   "source": [
    "### Activity: Add several more commits\n",
    "\n",
    "We now want to make several changes,  to do the following:\n",
    "\n",
    "1. Create a Python module, `analysis.py` that has a function `download_data` to download the Fremont bridge crossing data (https://data.seattle.gov/api/views/65db-xm6k/rows.csv?accessType=DOWNLOAD) and return as a Pandas dataframe. \n",
    "\n",
    "> Hint: Use Pandas' `read_csv` function.\n",
    "\n",
    "##### What do we need to do to get access to functions from the Pandas library?\n",
    "\n",
    "##### What is the benefit to enclosing this code in a function?\n",
    "\n",
    "2. Add the `if __name__ == \"__main__\"` script at the bottom so that analysis.py can be run from the command line. Should call `download_data` and print results.\n",
    "\n",
    "> Hint: Search StackOverflow about this particular line of code. \n",
    "\n",
    "3. If you have time, add a README file."
   ]
  },
  {
   "cell_type": "code",
   "execution_count": null,
   "metadata": {},
   "outputs": [],
   "source": [
    "# Run Python code\n",
    "python analysis.py"
   ]
  },
  {
   "cell_type": "markdown",
   "metadata": {},
   "source": [
    "##### What happens if you do not add the script from #2 and run a file anyway?"
   ]
  },
  {
   "cell_type": "markdown",
   "metadata": {},
   "source": [
    "### Branches\n",
    "\n",
    "Let's change our functionality to handle multiple bridge counting datasets from Seattle Open Data.\n",
    "\n",
    "But this more advanced feature development may be messy, so we wish to do this work in a separate branch. Let's create one now:"
   ]
  },
  {
   "cell_type": "code",
   "execution_count": null,
   "metadata": {},
   "outputs": [],
   "source": [
    "# Create new branch named 'multi-dataset'\n",
    "git branch multi-dataset"
   ]
  },
  {
   "cell_type": "code",
   "execution_count": null,
   "metadata": {},
   "outputs": [],
   "source": [
    "# View branches (* indicates current)\n",
    "git branch"
   ]
  },
  {
   "cell_type": "markdown",
   "metadata": {},
   "source": [
    "To switch to that branch (also used for switching to past commits), use checkout."
   ]
  },
  {
   "cell_type": "code",
   "execution_count": null,
   "metadata": {},
   "outputs": [],
   "source": [
    "# Checkout created branch\n",
    "git checkout multi-dataset"
   ]
  },
  {
   "cell_type": "markdown",
   "metadata": {},
   "source": [
    "### Activity: Replace data download logic\n",
    "\n",
    "Let's improve our script. Instead of only working for the Fremont Bridge data, let's add a parameter to `download_data` named `dataset` that takes one of \\[`fremont`, `spokane_street`\\]. The data for Spokane Street bridge can be found here: https://data.seattle.gov/Transportation/Spokane-St-Bridge-Bicycle-Counter/upms-nr8w\n",
    "\n",
    "##### How do we specify parameters for functions we create?\n",
    "\n",
    "##### How might we change the __main__ script to allow us to test the `spokane_street` dataset?\n",
    "\n",
    "Stage and commit these changes."
   ]
  },
  {
   "cell_type": "code",
   "execution_count": null,
   "metadata": {},
   "outputs": [],
   "source": [
    "# Stage and commit changes here\n"
   ]
  },
  {
   "cell_type": "code",
   "execution_count": null,
   "metadata": {},
   "outputs": [],
   "source": [
    "# Check the log for history\n"
   ]
  },
  {
   "cell_type": "code",
   "execution_count": null,
   "metadata": {},
   "outputs": [],
   "source": [
    "# View log\n",
    "git log"
   ]
  },
  {
   "cell_type": "code",
   "execution_count": null,
   "metadata": {},
   "outputs": [],
   "source": [
    "# Run Python code\n",
    "python analysis.py"
   ]
  },
  {
   "cell_type": "markdown",
   "metadata": {},
   "source": [
    "Let's now make changes to more easily change parameters from the command line. We'll replace the *\\__name\\__* script in our Python module (.py) with this code:\n",
    "\n",
    "```python\n",
    "import sys\n",
    "\n",
    "if __name__ == \"__main__\":\n",
    "    if len(sys.argv) >= 2:\n",
    "        print(download_data(sys.argv[1]))\n",
    "    else:\n",
    "        print(download_data())\n",
    "```\n",
    "\n",
    "Stage and commit these changes."
   ]
  },
  {
   "cell_type": "code",
   "execution_count": null,
   "metadata": {},
   "outputs": [],
   "source": [
    "# Stage and commit changes here\n"
   ]
  },
  {
   "cell_type": "code",
   "execution_count": null,
   "metadata": {},
   "outputs": [],
   "source": [
    "# Check the log for history\n"
   ]
  },
  {
   "cell_type": "code",
   "execution_count": null,
   "metadata": {},
   "outputs": [],
   "source": [
    "# Run Python code with new dataset\n",
    "python analysis.py spokane_street"
   ]
  },
  {
   "cell_type": "code",
   "execution_count": null,
   "metadata": {},
   "outputs": [],
   "source": [
    "# Run Python code with old dataset\n",
    "python analysis.py fremont"
   ]
  },
  {
   "cell_type": "markdown",
   "metadata": {},
   "source": [
    "### Checking out\n",
    "\n",
    "Let's now return to development on our *main* branch.\n",
    "\n",
    "We want to change our call to *pandas.read_csv* so that it automatically converts the date to a preferred format.\n",
    "\n",
    "To check this, we'll first have our *\\__name\\__* script print out the data types by adding this code inside of the if-statement.\n",
    "\n",
    "```python\n",
    "    if ...:\n",
    "        ...\n",
    "        print(df.dtypes)\n",
    "```\n",
    "\n",
    "Stage and commit these changes."
   ]
  },
  {
   "cell_type": "code",
   "execution_count": null,
   "metadata": {},
   "outputs": [],
   "source": [
    "# Return to the main branch\n"
   ]
  },
  {
   "cell_type": "code",
   "execution_count": null,
   "metadata": {},
   "outputs": [],
   "source": [
    "# Stage and commit changes here\n"
   ]
  },
  {
   "cell_type": "code",
   "execution_count": null,
   "metadata": {},
   "outputs": [],
   "source": [
    "# Check the log for history\n"
   ]
  },
  {
   "cell_type": "code",
   "execution_count": null,
   "metadata": {
    "scrolled": true
   },
   "outputs": [],
   "source": [
    "# Run Python code on main branch\n",
    "python analysis.py"
   ]
  },
  {
   "cell_type": "markdown",
   "metadata": {},
   "source": [
    "You should see the following results before making changes:\n",
    "```\n",
    "Date                             object\n",
    "Fremont Bridge Total            float64\n",
    "Fremont Bridge East Sidewalk    float64\n",
    "Fremont Bridge West Sidewalk    float64\n",
    "dtype: object\n",
    "```\n",
    "\n",
    "You should see Date change to a datetime object after the following change in *analysis.py*:\n",
    "\n",
    "```python\n",
    "pd.read_csv(..., parse_dates=[\"Date\"], infer_datetime_format=True)\n",
    "```\n",
    "\n",
    "##### How could you learn more about *parse_dates* or *infer_datetime_format*?\n",
    "\n",
    "##### What is another way to learn more?'\n",
    "\n",
    "Stage and commit these changes."
   ]
  },
  {
   "cell_type": "code",
   "execution_count": null,
   "metadata": {},
   "outputs": [],
   "source": [
    "# TODO: Stage and commit these changes\n"
   ]
  },
  {
   "cell_type": "markdown",
   "metadata": {},
   "source": [
    "### Merging and Merge Conflicts\n",
    "\n",
    "Now let's try to merge the changes from the `multi-dataset` branch back into the main branch. We've setup a situation where further commits have been made both branches.\n",
    "\n",
    "First, let's view those changes using some special flags."
   ]
  },
  {
   "cell_type": "code",
   "execution_count": null,
   "metadata": {
    "scrolled": true
   },
   "outputs": [],
   "source": [
    "git log --graph --all"
   ]
  },
  {
   "cell_type": "markdown",
   "metadata": {},
   "source": [
    "##### Can someone interpret the log graph here?\n",
    "\n",
    "As the log grows, it is easier to view by adding the --oneline flag as well."
   ]
  },
  {
   "cell_type": "code",
   "execution_count": null,
   "metadata": {},
   "outputs": [],
   "source": [
    "# Display log with one line, graph,\n",
    "# and all branches\n"
   ]
  },
  {
   "cell_type": "markdown",
   "metadata": {},
   "source": [
    "Now let's merge the `multi-dataset` branch back into `main`."
   ]
  },
  {
   "cell_type": "code",
   "execution_count": null,
   "metadata": {},
   "outputs": [],
   "source": [
    "git merge multi-dataset"
   ]
  },
  {
   "cell_type": "markdown",
   "metadata": {},
   "source": [
    "You should see the following:\n",
    "\n",
    "```\n",
    "CONFLICT (add/add): Merge conflict in analysis.py\n",
    "Automatic merge failed; fix conflicts and then commit the result.\n",
    "```\n",
    "\n",
    "Let's view the status for more information."
   ]
  },
  {
   "cell_type": "code",
   "execution_count": null,
   "metadata": {},
   "outputs": [],
   "source": [
    "git status"
   ]
  },
  {
   "cell_type": "markdown",
   "metadata": {},
   "source": [
    "You see that *analysis.py* indicates that both have changes added. We must manually resolve these issues.\n",
    "\n",
    "### Demonstration: How to interpret and fix a failed merge conflict with annotations from git\n",
    "\n",
    "You will likely encounter merge conflicts in a number of situations beyond merging two branches.\n",
    "\n",
    "1. When your changes conflict with a teammate's changes. Mitigation strategies: using branches, working on different files, and/or pulling often.\n",
    "\n",
    "2. When you've made changes on multiple machines -- this includes the Github website. Mitigation strategies: committing your work before switching computers, not making file changes on Github website.\n",
    "\n",
    "Add, commit changes to create merge commit.\n",
    "\n",
    "But let's not push to our public repository until we've confirmed our code works."
   ]
  },
  {
   "cell_type": "code",
   "execution_count": null,
   "metadata": {},
   "outputs": [],
   "source": [
    "# Add and commit changes\n"
   ]
  },
  {
   "cell_type": "code",
   "execution_count": null,
   "metadata": {},
   "outputs": [],
   "source": [
    "# Confirm code works with first dataset\n",
    "python analysis.py fremont"
   ]
  },
  {
   "cell_type": "code",
   "execution_count": null,
   "metadata": {},
   "outputs": [],
   "source": [
    "# Confirm code works with second dataset\n",
    "python analysis.py spokane_street"
   ]
  },
  {
   "cell_type": "code",
   "execution_count": null,
   "metadata": {},
   "outputs": [],
   "source": [
    "# Confirm code works with no parameter\n",
    "python analysis.py"
   ]
  },
  {
   "cell_type": "markdown",
   "metadata": {},
   "source": [
    "This last one doesn't work!\n",
    "(Unless you were really clever, congratulations if so.)\n",
    "\n",
    "### Dealing with backward compatibility\n",
    "\n",
    "When working on a public codebase (or even privately with your teammates), you'll make it much harder for everyone if you change functionality as we did here.\n",
    "\n",
    "##### Why is backwards compatibility important?\n",
    "\n",
    "Let's confirm this code used to work by checking out previous code in the **main** branch before we merged in the multiple dataset commits."
   ]
  },
  {
   "cell_type": "code",
   "execution_count": null,
   "metadata": {},
   "outputs": [],
   "source": [
    "git log"
   ]
  },
  {
   "cell_type": "code",
   "execution_count": null,
   "metadata": {},
   "outputs": [],
   "source": [
    "git checkout [SHA-for-earlier commit]"
   ]
  },
  {
   "cell_type": "markdown",
   "metadata": {},
   "source": [
    "### Activity: Update `download_dataset` to allow for either zero or one parameter\n",
    "\n",
    "##### How can we make a parameter be optional?"
   ]
  },
  {
   "cell_type": "code",
   "execution_count": null,
   "metadata": {},
   "outputs": [],
   "source": [
    "# Confirm fix works for zero parameters\n",
    "python analysis.py"
   ]
  },
  {
   "cell_type": "code",
   "execution_count": null,
   "metadata": {},
   "outputs": [],
   "source": [
    "# Confirm code works for one parameter\n",
    "python analysis.py spokane_street"
   ]
  },
  {
   "cell_type": "markdown",
   "metadata": {},
   "source": [
    "### Pulling / Pushing changes with remote\n",
    "\n",
    "When you're happy with your changes, you should make sure you've pulled the latest changes from your remote, making sure to handle any conflicts that arise.\n",
    "\n",
    "Then, push your changes."
   ]
  },
  {
   "cell_type": "code",
   "execution_count": null,
   "metadata": {},
   "outputs": [],
   "source": [
    "# Pull from remote\n",
    "git pull origin main"
   ]
  },
  {
   "cell_type": "code",
   "execution_count": null,
   "metadata": {},
   "outputs": [],
   "source": [
    "# Push to remote\n",
    "git push origin main"
   ]
  }
 ],
 "metadata": {
  "kernelspec": {
   "display_name": "Bash",
   "language": "bash",
   "name": "bash"
  },
  "language_info": {
   "codemirror_mode": "shell",
   "file_extension": ".sh",
   "mimetype": "text/x-sh",
   "name": "bash"
  }
 },
 "nbformat": 4,
 "nbformat_minor": 4
}
